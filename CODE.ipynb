{
 "cells": [
  {
   "cell_type": "code",
   "execution_count": 21,
   "metadata": {},
   "outputs": [],
   "source": [
    "from sklearn.metrics import accuracy_score, precision_score, recall_score, f1_score, classification_report, confusion_matrix\n",
    "from sklearn.model_selection import train_test_split, GridSearchCV\n",
    "from imblearn.over_sampling import SMOTE\n",
    "import matplotlib.pyplot as plt\n",
    "import seaborn as sns\n",
    "import pandas as pd\n",
    "import numpy as np"
   ]
  },
  {
   "cell_type": "code",
   "execution_count": 22,
   "metadata": {},
   "outputs": [
    {
     "data": {
      "text/html": [
       "<div>\n",
       "<style scoped>\n",
       "    .dataframe tbody tr th:only-of-type {\n",
       "        vertical-align: middle;\n",
       "    }\n",
       "\n",
       "    .dataframe tbody tr th {\n",
       "        vertical-align: top;\n",
       "    }\n",
       "\n",
       "    .dataframe thead th {\n",
       "        text-align: right;\n",
       "    }\n",
       "</style>\n",
       "<table border=\"1\" class=\"dataframe\">\n",
       "  <thead>\n",
       "    <tr style=\"text-align: right;\">\n",
       "      <th></th>\n",
       "      <th>Unnamed: 0</th>\n",
       "      <th>Age_Group_18-25</th>\n",
       "      <th>Age_Group_26-35</th>\n",
       "      <th>Age_Group_36-45</th>\n",
       "      <th>Age_Group_46-55</th>\n",
       "      <th>Age_Group_56-65</th>\n",
       "      <th>Gender_Female</th>\n",
       "      <th>Gender_Male</th>\n",
       "      <th>Avg_Transaction_Amount</th>\n",
       "      <th>Add_to_Cart</th>\n",
       "      <th>Browse</th>\n",
       "      <th>Login</th>\n",
       "      <th>Purchase</th>\n",
       "      <th>Label</th>\n",
       "    </tr>\n",
       "  </thead>\n",
       "  <tbody>\n",
       "    <tr>\n",
       "      <th>0</th>\n",
       "      <td>0</td>\n",
       "      <td>False</td>\n",
       "      <td>False</td>\n",
       "      <td>False</td>\n",
       "      <td>False</td>\n",
       "      <td>True</td>\n",
       "      <td>False</td>\n",
       "      <td>False</td>\n",
       "      <td>674.330112</td>\n",
       "      <td>0</td>\n",
       "      <td>5</td>\n",
       "      <td>2</td>\n",
       "      <td>3</td>\n",
       "      <td>No Fraud</td>\n",
       "    </tr>\n",
       "    <tr>\n",
       "      <th>1</th>\n",
       "      <td>1</td>\n",
       "      <td>True</td>\n",
       "      <td>False</td>\n",
       "      <td>False</td>\n",
       "      <td>False</td>\n",
       "      <td>False</td>\n",
       "      <td>False</td>\n",
       "      <td>True</td>\n",
       "      <td>513.363208</td>\n",
       "      <td>2</td>\n",
       "      <td>4</td>\n",
       "      <td>1</td>\n",
       "      <td>3</td>\n",
       "      <td>No Fraud</td>\n",
       "    </tr>\n",
       "    <tr>\n",
       "      <th>2</th>\n",
       "      <td>2</td>\n",
       "      <td>True</td>\n",
       "      <td>False</td>\n",
       "      <td>False</td>\n",
       "      <td>False</td>\n",
       "      <td>False</td>\n",
       "      <td>True</td>\n",
       "      <td>False</td>\n",
       "      <td>968.048672</td>\n",
       "      <td>2</td>\n",
       "      <td>5</td>\n",
       "      <td>1</td>\n",
       "      <td>1</td>\n",
       "      <td>No Fraud</td>\n",
       "    </tr>\n",
       "    <tr>\n",
       "      <th>3</th>\n",
       "      <td>3</td>\n",
       "      <td>True</td>\n",
       "      <td>False</td>\n",
       "      <td>False</td>\n",
       "      <td>False</td>\n",
       "      <td>False</td>\n",
       "      <td>False</td>\n",
       "      <td>False</td>\n",
       "      <td>297.080606</td>\n",
       "      <td>0</td>\n",
       "      <td>5</td>\n",
       "      <td>2</td>\n",
       "      <td>4</td>\n",
       "      <td>No Fraud</td>\n",
       "    </tr>\n",
       "    <tr>\n",
       "      <th>4</th>\n",
       "      <td>4</td>\n",
       "      <td>False</td>\n",
       "      <td>True</td>\n",
       "      <td>False</td>\n",
       "      <td>False</td>\n",
       "      <td>False</td>\n",
       "      <td>True</td>\n",
       "      <td>False</td>\n",
       "      <td>629.070774</td>\n",
       "      <td>3</td>\n",
       "      <td>5</td>\n",
       "      <td>1</td>\n",
       "      <td>6</td>\n",
       "      <td>Fraud</td>\n",
       "    </tr>\n",
       "  </tbody>\n",
       "</table>\n",
       "</div>"
      ],
      "text/plain": [
       "   Unnamed: 0  Age_Group_18-25  Age_Group_26-35  Age_Group_36-45  \\\n",
       "0           0            False            False            False   \n",
       "1           1             True            False            False   \n",
       "2           2             True            False            False   \n",
       "3           3             True            False            False   \n",
       "4           4            False             True            False   \n",
       "\n",
       "   Age_Group_46-55  Age_Group_56-65  Gender_Female  Gender_Male  \\\n",
       "0            False             True          False        False   \n",
       "1            False            False          False         True   \n",
       "2            False            False           True        False   \n",
       "3            False            False          False        False   \n",
       "4            False            False           True        False   \n",
       "\n",
       "   Avg_Transaction_Amount  Add_to_Cart  Browse  Login  Purchase     Label  \n",
       "0              674.330112            0       5      2         3  No Fraud  \n",
       "1              513.363208            2       4      1         3  No Fraud  \n",
       "2              968.048672            2       5      1         1  No Fraud  \n",
       "3              297.080606            0       5      2         4  No Fraud  \n",
       "4              629.070774            3       5      1         6     Fraud  "
      ]
     },
     "execution_count": 22,
     "metadata": {},
     "output_type": "execute_result"
    }
   ],
   "source": [
    "df = pd.read_csv(r\"Dataset\\dataset.csv\")\n",
    "df.head()"
   ]
  },
  {
   "cell_type": "code",
   "execution_count": 23,
   "metadata": {},
   "outputs": [
    {
     "name": "stdout",
     "output_type": "stream",
     "text": [
      "Duplicate values counts:  0\n"
     ]
    }
   ],
   "source": [
    "print(\"Duplicate values counts: \", df.duplicated().sum())"
   ]
  },
  {
   "cell_type": "code",
   "execution_count": 24,
   "metadata": {},
   "outputs": [
    {
     "name": "stdout",
     "output_type": "stream",
     "text": [
      "Empty values counts: \n",
      "Unnamed: 0                0\n",
      "Age_Group_18-25           0\n",
      "Age_Group_26-35           0\n",
      "Age_Group_36-45           0\n",
      "Age_Group_46-55           0\n",
      "Age_Group_56-65           0\n",
      "Gender_Female             0\n",
      "Gender_Male               0\n",
      "Avg_Transaction_Amount    0\n",
      "Add_to_Cart               0\n",
      "Browse                    0\n",
      "Login                     0\n",
      "Purchase                  0\n",
      "Label                     0\n",
      "dtype: int64\n"
     ]
    }
   ],
   "source": [
    "print(\"Empty values counts: \")\n",
    "print(df.isnull().sum())"
   ]
  },
  {
   "cell_type": "code",
   "execution_count": 25,
   "metadata": {},
   "outputs": [],
   "source": [
    "# Drop unnecessary columns\n",
    "df = df.drop(columns=['Unnamed: 0'])"
   ]
  },
  {
   "cell_type": "code",
   "execution_count": 26,
   "metadata": {},
   "outputs": [
    {
     "name": "stdout",
     "output_type": "stream",
     "text": [
      "<class 'pandas.core.frame.DataFrame'>\n",
      "RangeIndex: 5000 entries, 0 to 4999\n",
      "Data columns (total 13 columns):\n",
      " #   Column                  Non-Null Count  Dtype  \n",
      "---  ------                  --------------  -----  \n",
      " 0   Age_Group_18-25         5000 non-null   bool   \n",
      " 1   Age_Group_26-35         5000 non-null   bool   \n",
      " 2   Age_Group_36-45         5000 non-null   bool   \n",
      " 3   Age_Group_46-55         5000 non-null   bool   \n",
      " 4   Age_Group_56-65         5000 non-null   bool   \n",
      " 5   Gender_Female           5000 non-null   bool   \n",
      " 6   Gender_Male             5000 non-null   bool   \n",
      " 7   Avg_Transaction_Amount  5000 non-null   float64\n",
      " 8   Add_to_Cart             5000 non-null   int64  \n",
      " 9   Browse                  5000 non-null   int64  \n",
      " 10  Login                   5000 non-null   int64  \n",
      " 11  Purchase                5000 non-null   int64  \n",
      " 12  Label                   5000 non-null   object \n",
      "dtypes: bool(7), float64(1), int64(4), object(1)\n",
      "memory usage: 268.7+ KB\n"
     ]
    }
   ],
   "source": [
    "df.info()"
   ]
  },
  {
   "cell_type": "code",
   "execution_count": 27,
   "metadata": {},
   "outputs": [
    {
     "data": {
      "text/plain": [
       "Label\n",
       "No Fraud    3531\n",
       "Fraud       1469\n",
       "Name: count, dtype: int64"
      ]
     },
     "execution_count": 27,
     "metadata": {},
     "output_type": "execute_result"
    }
   ],
   "source": [
    "df[\"Label\"].value_counts()"
   ]
  },
  {
   "cell_type": "code",
   "execution_count": 28,
   "metadata": {},
   "outputs": [
    {
     "name": "stdout",
     "output_type": "stream",
     "text": [
      "Mapping for column 'Age_Group_18-25':\n",
      "Label 0: False\n",
      "Label 1: True\n",
      "Mapping for column 'Age_Group_26-35':\n",
      "Label 0: False\n",
      "Label 1: True\n",
      "Mapping for column 'Age_Group_36-45':\n",
      "Label 0: False\n",
      "Label 1: True\n",
      "Mapping for column 'Age_Group_46-55':\n",
      "Label 0: False\n",
      "Label 1: True\n",
      "Mapping for column 'Age_Group_56-65':\n",
      "Label 0: False\n",
      "Label 1: True\n",
      "Mapping for column 'Gender_Female':\n",
      "Label 0: False\n",
      "Label 1: True\n",
      "Mapping for column 'Gender_Male':\n",
      "Label 0: False\n",
      "Label 1: True\n",
      "Mapping for column 'Label':\n",
      "Label 0: Fraud\n",
      "Label 1: No Fraud\n"
     ]
    }
   ],
   "source": [
    "#label encoding the object data.\n",
    "from sklearn.preprocessing import LabelEncoder\n",
    "\n",
    "# Store original column names\n",
    "original_columns = df.select_dtypes(include=['object', 'bool']).columns\n",
    "\n",
    "# Initialize LabelEncoder\n",
    "label_encoders = {}\n",
    "\n",
    "# Apply LabelEncoder to each categorical variable\n",
    "for col in original_columns:\n",
    "    label_encoders[col] = LabelEncoder()\n",
    "    df[col] = label_encoders[col].fit_transform(df[col])\n",
    "\n",
    "# Print the mapping between original categories and numerical labels\n",
    "for col, encoder in label_encoders.items():\n",
    "    print(f\"Mapping for column '{col}':\")\n",
    "    for label, category in enumerate(encoder.classes_):\n",
    "        print(f\"Label {label}: {category}\")"
   ]
  },
  {
   "cell_type": "code",
   "execution_count": 29,
   "metadata": {},
   "outputs": [],
   "source": [
    "X = df.drop(\"Label\", axis=1)\n",
    "y = df[\"Label\"]"
   ]
  },
  {
   "cell_type": "code",
   "execution_count": 30,
   "metadata": {},
   "outputs": [],
   "source": [
    "# Handle class imbalance with SMOTE\n",
    "from imblearn.over_sampling import SMOTE\n",
    "smote = SMOTE(random_state=42)\n",
    "X_resampled, y_resampled = smote.fit_resample(X, y)"
   ]
  },
  {
   "cell_type": "code",
   "execution_count": 31,
   "metadata": {},
   "outputs": [
    {
     "data": {
      "text/html": [
       "<div>\n",
       "<style scoped>\n",
       "    .dataframe tbody tr th:only-of-type {\n",
       "        vertical-align: middle;\n",
       "    }\n",
       "\n",
       "    .dataframe tbody tr th {\n",
       "        vertical-align: top;\n",
       "    }\n",
       "\n",
       "    .dataframe thead th {\n",
       "        text-align: right;\n",
       "    }\n",
       "</style>\n",
       "<table border=\"1\" class=\"dataframe\">\n",
       "  <thead>\n",
       "    <tr style=\"text-align: right;\">\n",
       "      <th></th>\n",
       "      <th>Age_Group_18-25</th>\n",
       "      <th>Age_Group_26-35</th>\n",
       "      <th>Age_Group_36-45</th>\n",
       "      <th>Age_Group_46-55</th>\n",
       "      <th>Age_Group_56-65</th>\n",
       "      <th>Gender_Female</th>\n",
       "      <th>Gender_Male</th>\n",
       "      <th>Avg_Transaction_Amount</th>\n",
       "      <th>Add_to_Cart</th>\n",
       "      <th>Browse</th>\n",
       "      <th>Login</th>\n",
       "      <th>Purchase</th>\n",
       "    </tr>\n",
       "  </thead>\n",
       "  <tbody>\n",
       "    <tr>\n",
       "      <th>0</th>\n",
       "      <td>0</td>\n",
       "      <td>0</td>\n",
       "      <td>0</td>\n",
       "      <td>0</td>\n",
       "      <td>1</td>\n",
       "      <td>0</td>\n",
       "      <td>0</td>\n",
       "      <td>674.330112</td>\n",
       "      <td>0</td>\n",
       "      <td>5</td>\n",
       "      <td>2</td>\n",
       "      <td>3</td>\n",
       "    </tr>\n",
       "    <tr>\n",
       "      <th>1</th>\n",
       "      <td>1</td>\n",
       "      <td>0</td>\n",
       "      <td>0</td>\n",
       "      <td>0</td>\n",
       "      <td>0</td>\n",
       "      <td>0</td>\n",
       "      <td>1</td>\n",
       "      <td>513.363208</td>\n",
       "      <td>2</td>\n",
       "      <td>4</td>\n",
       "      <td>1</td>\n",
       "      <td>3</td>\n",
       "    </tr>\n",
       "    <tr>\n",
       "      <th>2</th>\n",
       "      <td>1</td>\n",
       "      <td>0</td>\n",
       "      <td>0</td>\n",
       "      <td>0</td>\n",
       "      <td>0</td>\n",
       "      <td>1</td>\n",
       "      <td>0</td>\n",
       "      <td>968.048672</td>\n",
       "      <td>2</td>\n",
       "      <td>5</td>\n",
       "      <td>1</td>\n",
       "      <td>1</td>\n",
       "    </tr>\n",
       "    <tr>\n",
       "      <th>3</th>\n",
       "      <td>1</td>\n",
       "      <td>0</td>\n",
       "      <td>0</td>\n",
       "      <td>0</td>\n",
       "      <td>0</td>\n",
       "      <td>0</td>\n",
       "      <td>0</td>\n",
       "      <td>297.080606</td>\n",
       "      <td>0</td>\n",
       "      <td>5</td>\n",
       "      <td>2</td>\n",
       "      <td>4</td>\n",
       "    </tr>\n",
       "    <tr>\n",
       "      <th>4</th>\n",
       "      <td>0</td>\n",
       "      <td>1</td>\n",
       "      <td>0</td>\n",
       "      <td>0</td>\n",
       "      <td>0</td>\n",
       "      <td>1</td>\n",
       "      <td>0</td>\n",
       "      <td>629.070774</td>\n",
       "      <td>3</td>\n",
       "      <td>5</td>\n",
       "      <td>1</td>\n",
       "      <td>6</td>\n",
       "    </tr>\n",
       "    <tr>\n",
       "      <th>...</th>\n",
       "      <td>...</td>\n",
       "      <td>...</td>\n",
       "      <td>...</td>\n",
       "      <td>...</td>\n",
       "      <td>...</td>\n",
       "      <td>...</td>\n",
       "      <td>...</td>\n",
       "      <td>...</td>\n",
       "      <td>...</td>\n",
       "      <td>...</td>\n",
       "      <td>...</td>\n",
       "      <td>...</td>\n",
       "    </tr>\n",
       "    <tr>\n",
       "      <th>7057</th>\n",
       "      <td>0</td>\n",
       "      <td>0</td>\n",
       "      <td>0</td>\n",
       "      <td>0</td>\n",
       "      <td>0</td>\n",
       "      <td>0</td>\n",
       "      <td>0</td>\n",
       "      <td>728.122264</td>\n",
       "      <td>1</td>\n",
       "      <td>6</td>\n",
       "      <td>4</td>\n",
       "      <td>5</td>\n",
       "    </tr>\n",
       "    <tr>\n",
       "      <th>7058</th>\n",
       "      <td>0</td>\n",
       "      <td>0</td>\n",
       "      <td>0</td>\n",
       "      <td>0</td>\n",
       "      <td>0</td>\n",
       "      <td>0</td>\n",
       "      <td>0</td>\n",
       "      <td>245.504148</td>\n",
       "      <td>3</td>\n",
       "      <td>7</td>\n",
       "      <td>1</td>\n",
       "      <td>3</td>\n",
       "    </tr>\n",
       "    <tr>\n",
       "      <th>7059</th>\n",
       "      <td>0</td>\n",
       "      <td>0</td>\n",
       "      <td>0</td>\n",
       "      <td>0</td>\n",
       "      <td>0</td>\n",
       "      <td>0</td>\n",
       "      <td>0</td>\n",
       "      <td>354.778168</td>\n",
       "      <td>3</td>\n",
       "      <td>6</td>\n",
       "      <td>2</td>\n",
       "      <td>4</td>\n",
       "    </tr>\n",
       "    <tr>\n",
       "      <th>7060</th>\n",
       "      <td>1</td>\n",
       "      <td>0</td>\n",
       "      <td>0</td>\n",
       "      <td>0</td>\n",
       "      <td>0</td>\n",
       "      <td>0</td>\n",
       "      <td>0</td>\n",
       "      <td>426.859864</td>\n",
       "      <td>2</td>\n",
       "      <td>7</td>\n",
       "      <td>3</td>\n",
       "      <td>5</td>\n",
       "    </tr>\n",
       "    <tr>\n",
       "      <th>7061</th>\n",
       "      <td>0</td>\n",
       "      <td>0</td>\n",
       "      <td>0</td>\n",
       "      <td>0</td>\n",
       "      <td>0</td>\n",
       "      <td>0</td>\n",
       "      <td>0</td>\n",
       "      <td>196.272320</td>\n",
       "      <td>0</td>\n",
       "      <td>7</td>\n",
       "      <td>1</td>\n",
       "      <td>4</td>\n",
       "    </tr>\n",
       "  </tbody>\n",
       "</table>\n",
       "<p>7062 rows × 12 columns</p>\n",
       "</div>"
      ],
      "text/plain": [
       "      Age_Group_18-25  Age_Group_26-35  Age_Group_36-45  Age_Group_46-55  \\\n",
       "0                   0                0                0                0   \n",
       "1                   1                0                0                0   \n",
       "2                   1                0                0                0   \n",
       "3                   1                0                0                0   \n",
       "4                   0                1                0                0   \n",
       "...               ...              ...              ...              ...   \n",
       "7057                0                0                0                0   \n",
       "7058                0                0                0                0   \n",
       "7059                0                0                0                0   \n",
       "7060                1                0                0                0   \n",
       "7061                0                0                0                0   \n",
       "\n",
       "      Age_Group_56-65  Gender_Female  Gender_Male  Avg_Transaction_Amount  \\\n",
       "0                   1              0            0              674.330112   \n",
       "1                   0              0            1              513.363208   \n",
       "2                   0              1            0              968.048672   \n",
       "3                   0              0            0              297.080606   \n",
       "4                   0              1            0              629.070774   \n",
       "...               ...            ...          ...                     ...   \n",
       "7057                0              0            0              728.122264   \n",
       "7058                0              0            0              245.504148   \n",
       "7059                0              0            0              354.778168   \n",
       "7060                0              0            0              426.859864   \n",
       "7061                0              0            0              196.272320   \n",
       "\n",
       "      Add_to_Cart  Browse  Login  Purchase  \n",
       "0               0       5      2         3  \n",
       "1               2       4      1         3  \n",
       "2               2       5      1         1  \n",
       "3               0       5      2         4  \n",
       "4               3       5      1         6  \n",
       "...           ...     ...    ...       ...  \n",
       "7057            1       6      4         5  \n",
       "7058            3       7      1         3  \n",
       "7059            3       6      2         4  \n",
       "7060            2       7      3         5  \n",
       "7061            0       7      1         4  \n",
       "\n",
       "[7062 rows x 12 columns]"
      ]
     },
     "execution_count": 31,
     "metadata": {},
     "output_type": "execute_result"
    }
   ],
   "source": [
    "X_resampled"
   ]
  },
  {
   "cell_type": "code",
   "execution_count": 32,
   "metadata": {},
   "outputs": [
    {
     "data": {
      "text/plain": [
       "0       1\n",
       "1       1\n",
       "2       1\n",
       "3       1\n",
       "4       0\n",
       "       ..\n",
       "7057    0\n",
       "7058    0\n",
       "7059    0\n",
       "7060    0\n",
       "7061    0\n",
       "Name: Label, Length: 7062, dtype: int32"
      ]
     },
     "execution_count": 32,
     "metadata": {},
     "output_type": "execute_result"
    }
   ],
   "source": [
    "y_resampled"
   ]
  },
  {
   "cell_type": "code",
   "execution_count": 33,
   "metadata": {},
   "outputs": [
    {
     "data": {
      "text/plain": [
       "Label\n",
       "1    3531\n",
       "0    3531\n",
       "Name: count, dtype: int64"
      ]
     },
     "execution_count": 33,
     "metadata": {},
     "output_type": "execute_result"
    }
   ],
   "source": [
    "y_resampled.value_counts()"
   ]
  },
  {
   "cell_type": "code",
   "execution_count": 34,
   "metadata": {},
   "outputs": [],
   "source": [
    "# Split data into training and testing sets\n",
    "X_train, X_test, y_train, y_test = train_test_split(X_resampled, y_resampled, test_size=0.2)"
   ]
  },
  {
   "cell_type": "markdown",
   "metadata": {},
   "source": [
    "## Random Forest Classifier"
   ]
  },
  {
   "cell_type": "code",
   "execution_count": null,
   "metadata": {},
   "outputs": [],
   "source": [
    "from sklearn.ensemble import RandomForestClassifier\n",
    "\n",
    "# Create the Random Forest model\n",
    "rf_model = RandomForestClassifier(n_estimators=100, random_state=42)\n",
    "\n",
    "# Fit the model\n",
    "rf_model.fit(X_train, y_train)\n",
    "\n",
    "# Predict on test data\n",
    "rf_y_pred = rf_model.predict(X_test)"
   ]
  },
  {
   "cell_type": "code",
   "execution_count": null,
   "metadata": {},
   "outputs": [
    {
     "name": "stdout",
     "output_type": "stream",
     "text": [
      "Accuracy: 0.921830985915493\n"
     ]
    }
   ],
   "source": [
    "# Accuracy\n",
    "rf_accuracy = accuracy_score(y_test, rf_y_pred)\n",
    "print(\"Accuracy:\", rf_accuracy)"
   ]
  },
  {
   "cell_type": "code",
   "execution_count": null,
   "metadata": {},
   "outputs": [
    {
     "name": "stdout",
     "output_type": "stream",
     "text": [
      "\n",
      "Classification Report:\n",
      "               precision    recall  f1-score   support\n",
      "\n",
      "       Fraud       0.87      0.88      0.91       712\n",
      "   Non-Fraud       0.93      0.93      0.93       708\n",
      "\n",
      "    accuracy                           0.91      1420\n",
      "   macro avg       0.91      0.91      0.91      1420\n",
      "weighted avg       0.91      0.91      0.91      1420\n",
      "      \n"
     ]
    }
   ],
   "source": [
    "# Classification Report\n",
    "rf_cr = classification_report(y_test, rf_y_pred)\n",
    "print(\"\\nClassification Report:\\n\", rf_cr)"
   ]
  },
  {
   "cell_type": "code",
   "execution_count": null,
   "metadata": {},
   "outputs": [
    {
     "data": {
      "image/png": "[encoded data removed]",
      "text/plain": [
       "<Figure size 800x600 with 2 Axes>"
      ]
     },
     "metadata": {},
     "output_type": "display_data"
    }
   ],
   "source": [
    "# Confusion Matrix\n",
    "rf_cm = confusion_matrix(y_test, rf_y_pred)\n",
    "plt.figure(figsize=(8, 6))\n",
    "sns.heatmap(rf_cm, annot=True, fmt='d', cmap='Blues', xticklabels=np.unique(y), yticklabels=np.unique(y))\n",
    "plt.xlabel('Predicted')\n",
    "plt.ylabel('Actual')\n",
    "plt.title('Confusion Matrix')\n",
    "plt.show()"
   ]
  },
  {
   "cell_type": "markdown",
   "metadata": {},
   "source": [
    "## Gradient Boosting Classifier"
   ]
  },
  {
   "cell_type": "code",
   "execution_count": null,
   "metadata": {},
   "outputs": [],
   "source": [
    "from sklearn.ensemble import GradientBoostingClassifier\n",
    "\n",
    "# Create the Gradient Boosting model\n",
    "gbc_model = GradientBoostingClassifier()\n",
    "\n",
    "# Fit the model\n",
    "gbc_model.fit(X_train, y_train)\n",
    "\n",
    "# Predict on test data\n",
    "gbc_y_pred = gbc_model.predict(X_test)"
   ]
  },
  {
   "cell_type": "code",
   "execution_count": null,
   "metadata": {},
   "outputs": [
    {
     "name": "stdout",
     "output_type": "stream",
     "text": [
      "Accuracy: 0.8928169014084507\n"
     ]
    }
   ],
   "source": [
    "# Accuracy\n",
    "gbc_accuracy = accuracy_score(y_test, gbc_y_pred)\n",
    "print(\"Accuracy:\", gbc_accuracy)"
   ]
  },
  {
   "cell_type": "code",
   "execution_count": null,
   "metadata": {},
   "outputs": [
    {
     "name": "stdout",
     "output_type": "stream",
     "text": [
      "\n",
      "Classification Report:\n",
      "               precision    recall  f1-score   support\n",
      "\n",
      "       Fraud       0.89      0.89      0.88       712\n",
      "   Non-Fraud       0.90      0.89      0.89       708\n",
      "\n",
      "    accuracy                           0.89      1420\n",
      "   macro avg       0.89      0.89      0.89      1420\n",
      "weighted avg       0.89      0.89      0.89      1420\n",
      "      \n"
     ]
    }
   ],
   "source": [
    "# Classification Report\n",
    "gbc_cr = classification_report(y_test, gbc_y_pred)\n",
    "print(\"\\nClassification Report:\\n\", gbc_cr)"
   ]
  },
  {
   "cell_type": "code",
   "execution_count": null,
   "metadata": {},
   "outputs": [
    {
     "data": {
      "image/png": "[encoded data removed]",
      "text/plain": [
       "<Figure size 800x600 with 2 Axes>"
      ]
     },
     "metadata": {},
     "output_type": "display_data"
    }
   ],
   "source": [
    "# Confusion Matrix\n",
    "gbc_cm = confusion_matrix(y_test, gbc_y_pred)\n",
    "plt.figure(figsize=(8, 6))\n",
    "sns.heatmap(gbc_cm, annot=True, fmt='d', cmap='Blues', xticklabels=np.unique(y), yticklabels=np.unique(y))\n",
    "plt.xlabel('Predicted')\n",
    "plt.ylabel('Actual')\n",
    "plt.title('Confusion Matrix')\n",
    "plt.show()"
   ]
  },
  {
   "cell_type": "markdown",
   "metadata": {},
   "source": [
    "## AdaBoost Classifier"
   ]
  },
  {
   "cell_type": "code",
   "execution_count": null,
   "metadata": {},
   "outputs": [],
   "source": [
    "from sklearn.ensemble import AdaBoostClassifier\n",
    "\n",
    "# Create the Adaboost model\n",
    "ab_model = AdaBoostClassifier()\n",
    "\n",
    "# Fit the model\n",
    "ab_model.fit(X_train, y_train)\n",
    "\n",
    "# Predict on test data\n",
    "ab_y_pred = ab_model.predict(X_test)"
   ]
  },
  {
   "cell_type": "code",
   "execution_count": null,
   "metadata": {},
   "outputs": [
    {
     "name": "stdout",
     "output_type": "stream",
     "text": [
      "Accuracy: 0.9028169014084507\n"
     ]
    }
   ],
   "source": [
    "# Accuracy\n",
    "ab_accuracy = accuracy_score(y_test, ab_y_pred)\n",
    "print(\"Accuracy:\", ab_accuracy)"
   ]
  },
  {
   "cell_type": "code",
   "execution_count": null,
   "metadata": {},
   "outputs": [
    {
     "name": "stdout",
     "output_type": "stream",
     "text": [
      "\n",
      "Classification Report:\n",
      "               precision    recall  f1-score   support\n",
      "\n",
      "       Fraud       0.91      0.89      0.90       712\n",
      "   Non-Fraud       0.89      0.91      0.90       708\n",
      "\n",
      "    accuracy                           0.90      1420\n",
      "   macro avg       0.90      0.90      0.90      1420\n",
      "weighted avg       0.90      0.90      0.90      1420\n",
      "      \n"
     ]
    }
   ],
   "source": [
    "# Classification Report\n",
    "ab_cr = classification_report(y_test, ab_y_pred)\n",
    "print(\"\\nClassification Report:\\n\", ab_cr)"
   ]
  },
  {
   "cell_type": "code",
   "execution_count": null,
   "metadata": {},
   "outputs": [
    {
     "data": {
      "image/png": "[encoded data removed]",
      "text/plain": [
       "<Figure size 800x600 with 2 Axes>"
      ]
     },
     "metadata": {},
     "output_type": "display_data"
    }
   ],
   "source": [
    "# Confusion Matrix\n",
    "ab_cm = confusion_matrix(y_test, ab_y_pred)\n",
    "plt.figure(figsize=(8, 6))\n",
    "sns.heatmap(ab_cm, annot=True, fmt='d', cmap='Blues', xticklabels=np.unique(y), yticklabels=np.unique(y))\n",
    "plt.xlabel('Predicted')\n",
    "plt.ylabel('Actual')\n",
    "plt.title('Confusion Matrix')\n",
    "plt.show()"
   ]
  },
  {
   "cell_type": "markdown",
   "metadata": {},
   "source": [
    "## StackingClassifier"
   ]
  },
  {
   "cell_type": "code",
   "execution_count": null,
   "metadata": {},
   "outputs": [],
   "source": [
    "# Hyperparameter tuning for random forest\n",
    "param_grid_rf = {\n",
    "    'n_estimators': [100, 200],\n",
    "    'max_depth': [None, 10, 20],\n",
    "    'min_samples_split': [2, 5]\n",
    "}\n",
    "\n",
    "rf_grid = GridSearchCV(rf_model, param_grid_rf, cv=5, scoring='accuracy')\n",
    "rf_grid.fit(X_train, y_train)"
   ]
  },
  {
   "cell_type": "code",
   "execution_count": null,
   "metadata": {},
   "outputs": [],
   "source": [
    "# Base estimators\n",
    "estimators = [\n",
    "    ('rf', rf_grid.best_estimator_),\n",
    "    ('gb', gbc_model),\n",
    "    ('ada', ab_model)\n",
    "]\n",
    "\n",
    "# meta-classifier\n",
    "from sklearn.linear_model import LogisticRegression\n",
    "\n",
    "meta_classifier = LogisticRegression()"
   ]
  },
  {
   "cell_type": "code",
   "execution_count": null,
   "metadata": {},
   "outputs": [],
   "source": [
    "# Create the Stacking Classifier model\n",
    "from sklearn.ensemble import StackingClassifier\n",
    "\n",
    "stacking_model = StackingClassifier(estimators=estimators, final_estimator=meta_classifier)\n",
    "\n",
    "\n",
    "# Fit the model\n",
    "stacking_model.fit(X_train, y_train)\n",
    "\n",
    "# Predict on test data\n",
    "stackingy_pred = stacking_model.predict(X_test)"
   ]
  },
  {
   "cell_type": "code",
   "execution_count": null,
   "metadata": {},
   "outputs": [
    {
     "name": "stdout",
     "output_type": "stream",
     "text": [
      "Accuracy: 0.9628169014084507\n"
     ]
    }
   ],
   "source": [
    "# Accuracy\n",
    "stackingy_accuracy = accuracy_score(y_test, stackingy_pred)\n",
    "print(\"Accuracy:\", stackingy_accuracy)"
   ]
  },
  {
   "cell_type": "code",
   "execution_count": null,
   "metadata": {},
   "outputs": [
    {
     "name": "stdout",
     "output_type": "stream",
     "text": [
      "\n",
      "Classification Report:\n",
      "               precision    recall  f1-score   support\n",
      "\n",
      "       Fraud       0.96      0.96      0.96       712\n",
      "   Non-Fraud       0.96      0.96      0.96       708\n",
      "\n",
      "    accuracy                           0.96      1420\n",
      "   macro avg       0.96      0.96      0.96      1420\n",
      "weighted avg       0.96      0.96      0.96      1420\n",
      "      \n"
     ]
    }
   ],
   "source": [
    "# Classification Report\n",
    "stackingy_cr = classification_report(y_test, stackingy_pred)\n",
    "print(\"\\nClassification Report:\\n\", stackingy_cr)"
   ]
  },
  {
   "cell_type": "code",
   "execution_count": null,
   "metadata": {},
   "outputs": [
    {
     "data": {
      "image/png": "[encoded data removed]",
      "text/plain": [
       "<Figure size 800x600 with 2 Axes>"
      ]
     },
     "metadata": {},
     "output_type": "display_data"
    }
   ],
   "source": [
    "# Confusion Matrix\n",
    "stacking_cm = confusion_matrix(y_test, stackingy_pred)\n",
    "plt.figure(figsize=(8, 6))\n",
    "sns.heatmap(stacking_cm, annot=True, fmt='d', cmap='Blues', xticklabels=np.unique(y), yticklabels=np.unique(y))\n",
    "plt.xlabel('Predicted')\n",
    "plt.ylabel('Actual')\n",
    "plt.title('Confusion Matrix')\n",
    "plt.show()"
   ]
  },
  {
   "cell_type": "code",
   "execution_count": null,
   "metadata": {},
   "outputs": [],
   "source": [
    "# Save Model\n",
    "import pickle\n",
    "\n",
    "with open('Models/random_forest.pkl', 'wb') as f:\n",
    "    pickle.dump(rf_model, f)\n",
    "\n",
    "with open('Models/gradient_boost.pkl', 'wb') as f:\n",
    "    pickle.dump(gbc_model, f)\n",
    "\n",
    "with open('Models/adabost.pkl', 'wb') as f:\n",
    "    pickle.dump(ab_model, f)\n",
    "\n",
    "with open('Models/stacking_clf.pkl', 'wb') as f:\n",
    "    pickle.dump(stacking_model, f)"
   ]
  }
 ],
 "metadata": {
  "kernelspec": {
   "display_name": "tk166411",
   "language": "python",
   "name": "python3"
  },
  "language_info": {
   "codemirror_mode": {
    "name": "ipython",
    "version": 3
   },
   "file_extension": ".py",
   "mimetype": "text/x-python",
   "name": "python",
   "nbconvert_exporter": "python",
   "pygments_lexer": "ipython3",
   "version": "3.10.8"
  }
 },
 "nbformat": 4,
 "nbformat_minor": 2
}
